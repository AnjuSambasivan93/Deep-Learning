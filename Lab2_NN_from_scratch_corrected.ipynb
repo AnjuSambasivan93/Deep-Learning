{
  "nbformat": 4,
  "nbformat_minor": 0,
  "metadata": {
    "kernelspec": {
      "display_name": "Python 2",
      "language": "python",
      "name": "python2"
    },
    "language_info": {
      "codemirror_mode": {
        "name": "ipython",
        "version": 2
      },
      "file_extension": ".py",
      "mimetype": "text/x-python",
      "name": "python",
      "nbconvert_exporter": "python",
      "pygments_lexer": "ipython2",
      "version": "2.7.10"
    },
    "colab": {
      "name": "Lab2_NN_from_scratch (1).ipynb",
      "provenance": []
    }
  },
  "cells": [
    {
      "cell_type": "markdown",
      "metadata": {
        "id": "UkUWr777pE-v",
        "colab_type": "text"
      },
      "source": [
        "# Implementing a Neural Network from Scratch - An Introduction\n",
        "Adapted from Denny Britz\n",
        "\n",
        "We will implement here a simple 3-layer neural network from scratch. \n",
        "\n",
        "But why implement a Neural Network from scratch at all? Even if you plan on using Neural Network libraries like [PyTorch](http://pytorch.org) in the future, implementing a network from scratch at least once is an extremely valuable exercise. It helps you gain an understanding of how neural networks work, and that is essential to designing effective models.\n",
        "\n",
        "One thing to note is that the code examples here aren't terribly efficient. They are meant to be easy to understand."
      ]
    },
    {
      "cell_type": "code",
      "metadata": {
        "id": "9BQ1vCPkpE-0",
        "colab_type": "code",
        "colab": {}
      },
      "source": [
        "# Package imports\n",
        "import matplotlib.pyplot as plt\n",
        "import numpy as np\n",
        "import sklearn\n",
        "import sklearn.datasets\n",
        "import sklearn.linear_model\n",
        "import matplotlib\n",
        "\n",
        "# Display plots inline and change default figure size\n",
        "%matplotlib inline\n",
        "matplotlib.rcParams['figure.figsize'] = (10.0, 8.0)"
      ],
      "execution_count": 0,
      "outputs": []
    },
    {
      "cell_type": "markdown",
      "metadata": {
        "colab_type": "text",
        "id": "vzUW3b2eq5yG"
      },
      "source": [
        "## Generating a dataset\n",
        "\n",
        "Let's start by generating a dataset we can work with. Fortunately, [scikit-learn](http://scikit-learn.org/) has some useful dataset generators, so we don't need to write the code ourselves. As in the previous lab, we will go with the [`make_moons`](http://scikit-learn.org/stable/modules/generated/sklearn.datasets.make_moons.html) function."
      ]
    },
    {
      "cell_type": "code",
      "metadata": {
        "id": "WGQX9UyopE-6",
        "colab_type": "code",
        "colab": {}
      },
      "source": [
        "# Generate a dataset and plot it\n",
        "np.random.seed(0)\n",
        "X, y = sklearn.datasets.make_moons(200, noise=0.20)\n",
        "plt.scatter(X[:,0], X[:,1], s=40, c=y, cmap=plt.cm.Spectral)"
      ],
      "execution_count": 0,
      "outputs": []
    },
    {
      "cell_type": "code",
      "metadata": {
        "id": "D5iM9nFIObvV",
        "colab_type": "code",
        "colab": {}
      },
      "source": [
        "# Helper function to plot a decision boundary.\n",
        "# If you don't fully understand this function don't worry, it just generates the contour plot below.\n",
        "def plot_decision_boundary(pred_func):\n",
        "    # Set min and max values and give it some padding\n",
        "    x_min, x_max = X[:, 0].min() - .5, X[:, 0].max() + .5\n",
        "    y_min, y_max = X[:, 1].min() - .5, X[:, 1].max() + .5\n",
        "    h = 0.01\n",
        "    # Generate a grid of points with distance h between them\n",
        "    xx, yy = np.meshgrid(np.arange(x_min, x_max, h), np.arange(y_min, y_max, h))\n",
        "    # Predict the function value for the whole gid\n",
        "    Z = pred_func(np.c_[xx.ravel(), yy.ravel()])\n",
        "    Z = Z.reshape(xx.shape)\n",
        "    # Plot the contour and training examples\n",
        "    plt.contourf(xx, yy, Z, cmap=plt.cm.Spectral)\n",
        "    plt.scatter(X[:, 0], X[:, 1], c=y, cmap=plt.cm.Spectral)"
      ],
      "execution_count": 0,
      "outputs": []
    },
    {
      "cell_type": "markdown",
      "metadata": {
        "id": "XwdnIZhRpE-_",
        "colab_type": "text"
      },
      "source": [
        "The dataset we generated has two classes, plotted as red and blue points. \n",
        "\n",
        "Our goal is to train a Machine Learning classifier that predicts the correct class  given the x- and y- coordinates. Note that the data is not *linearly separable*, we can't draw a straight line that separates the two classes. This means that linear classifiers, such as Logistic Regression, won't be able to fit the data unless you hand-engineer non-linear features (such as polynomials) that work well for the given dataset.\n",
        "\n",
        "In fact, that's one of the major advantages of Neural Networks. You don't need to worry about feature engineering. The hidden layer of a neural network will learn features for you."
      ]
    },
    {
      "cell_type": "markdown",
      "metadata": {
        "id": "RUE4hoUKpE_P",
        "colab_type": "text"
      },
      "source": [
        "## Training a Neural Network"
      ]
    },
    {
      "cell_type": "markdown",
      "metadata": {
        "id": "O6aU-ay4pE_Q",
        "colab_type": "text"
      },
      "source": [
        "Let's now build a 3-layer neural network with one input layer, one hidden layer, and one output layer. The number of nodes in the input layer is determined by the dimensionality of our data, 2. Similarly, the number of nodes in the output layer is determined by the number of classes we have, also 2. (Because we only have 2 classes we could actually get away with only one output node predicting 0 or 1, but having 2 makes it easier to extend the network to more classes later on). The input to the network will be x- and y- coordinates and its output will be two probabilities, one for class 0  and one for class 1. It looks something like this:\n",
        "\n",
        "<img src='https://github.com/dennybritz/nn-from-scratch/raw/0b52553c84c8bd5fed4f0c890c98af802e9705e9/nn-3-layer-network.png' style='width: 50%'/>"
      ]
    },
    {
      "cell_type": "markdown",
      "metadata": {
        "id": "cTR5Pr70pE_S",
        "colab_type": "text"
      },
      "source": [
        "We can choose the dimensionality (the number of nodes) of the hidden layer. The more nodes we put into the hidden layer the more complex functions we will be able to fit. However, higher dimensionality comes at a cost. First, more computation is required to make predictions and learn the network parameters. A bigger number of parameters also means we become more prone to overfitting our data. \n",
        "\n",
        "How to choose the size of the hidden layer? While there are some general guidelines and recommendations, it always depends on your specific problem. We will play with the number of nodes in the hidden layer later on and see how it affects our output."
      ]
    },
    {
      "cell_type": "markdown",
      "metadata": {
        "id": "HuFRZemEpE_T",
        "colab_type": "text"
      },
      "source": [
        "We also need to pick an *activation function* for our hidden layer. The activation function transforms the inputs of the layer into its outputs. A nonlinear activation function is what allows us to find non-linear desicion boundary. Common chocies for activation functions are [tanh](https://reference.wolfram.com/language/ref/Tanh.html), the [sigmoid function](https://en.wikipedia.org/wiki/Sigmoid_function), or [ReLUs](https://en.wikipedia.org/wiki/Rectifier_(neural_networks). We will use `tanh`, which performs quite well in many scenarios. A nice property of these functions is that their derivate can be computed using the original function value. For example, the derivative of $\\tanh x$ is $1-\\tanh^2 x$. This is useful because it allows us to compute $\\tanh x$ once and re-use its value later on to get the derivative."
      ]
    },
    {
      "cell_type": "markdown",
      "metadata": {
        "id": "Ffq1_km-pE_U",
        "colab_type": "text"
      },
      "source": [
        "Because we want our network to output probabilities, the activation function for the output layer will be the [softmax](https://en.wikipedia.org/wiki/Softmax_function), which is simply a way to convert raw scores to probabilities. If you're familiar with the logistic function you can think of softmax as its generalization to multiple classes."
      ]
    },
    {
      "cell_type": "markdown",
      "metadata": {
        "id": "dPYdKjpupE_V",
        "colab_type": "text"
      },
      "source": [
        "### How our network makes predictions\n",
        "\n",
        "Our network makes predictions using *forward propagation*, which is just a sequence of matrix multiplications and the application of the activation function(s) we defined above. If $x$ is the 2-dimensional input to our network then we calculate our prediction $\\hat{y}$ (also two-dimensional) as follows:"
      ]
    },
    {
      "cell_type": "markdown",
      "metadata": {
        "id": "vbTkFpPipE_W",
        "colab_type": "text"
      },
      "source": [
        "$$\n",
        "\\begin{aligned}\n",
        "a_1 & = xW_1 + b_1 \\\\\n",
        "h_1 & = \\tanh(a_1) \\\\\n",
        "a_2 & = h_1W_2 + b_2 \\\\\n",
        "h_2 & = \\hat{y} = \\mathrm{softmax}(a_2)\n",
        "\\end{aligned}\n",
        "$$"
      ]
    },
    {
      "cell_type": "markdown",
      "metadata": {
        "id": "84UxSgU1pE_X",
        "colab_type": "text"
      },
      "source": [
        "$a_i$ is the weighted sum of inputs of layer $i$ (bias included) and $h_i$ is the output of layer $i$ after applying the activation function. $W_1, b_1, W_2, b_2$ are  parameters of our network, which we need to learn from our training data. You can think of them as matrices transforming data between layers of the network. Looking at the matrix multiplications above we can figure out the dimensionality of these matrices. If we use 500 nodes for our hidden layer then $W_1 \\in \\mathbb{R}^{2\\times500}$, $b_1 \\in \\mathbb{R}^{500}$, $W_2 \\in \\mathbb{R}^{500\\times2}$, $b_2 \\in \\mathbb{R}^{2}$. Now you see why we have more parameters if we increase the size of the hidden layer."
      ]
    },
    {
      "cell_type": "markdown",
      "metadata": {
        "id": "1vMJpWkxpE_Y",
        "colab_type": "text"
      },
      "source": [
        "### Learning the Parameters\n",
        "\n",
        "Learning the parameters for our network means finding parameters ($W_1, b_1, W_2, b_2$) that minimize the error on our training data. But how do we define the error? We call the function that measures our error the *loss function*. A common choice with the softmax output is the [cross-entropy loss](https://en.wikipedia.org/wiki/Cross_entropy#Cross-entropy_error_function_and_logistic_regression). If we have $N$ training examples and $C$ classes then the loss for our prediction $\\hat{y}$ with respect to the true labels $y$ is given by:\n",
        "\n",
        "$$\n",
        "\\begin{aligned}\n",
        "L(y,\\hat{y}) = - \\frac{1}{N} \\sum_{n \\in N} \\sum_{i \\in C} y_{n,i} \\log\\hat{y}_{n,i}\n",
        "\\end{aligned}\n",
        "$$\n",
        "\n"
      ]
    },
    {
      "cell_type": "markdown",
      "metadata": {
        "id": "Bc-leHFEpE_Z",
        "colab_type": "text"
      },
      "source": [
        "The formula looks complicated, but all it really does is sum over our training examples and add to the loss if we predicted the incorrect class. So, the further away $y$ (the correct labels) and $\\hat{y}$ (our predictions) are, the greater our loss will be. "
      ]
    },
    {
      "cell_type": "markdown",
      "metadata": {
        "id": "KYrJJvyypE_b",
        "colab_type": "text"
      },
      "source": [
        "Remember that our goal is to find the parameters that minimize our loss function. We can use [gradient descent](http://cs231n.github.io/optimization-1/) to find its minimum. We will implement simple version of gradient descent, also called batch gradient descent with a fixed learning rate. Variations such as SGD (stochastic gradient descent) or minibatch gradient descent typically perform better in practice. \n",
        "\n",
        "As an input, gradient descent needs the gradients (vector of derivatives) of the loss function with respect to our parameters: $\\frac{\\partial{L}}{\\partial{W_1}}$, $\\frac{\\partial{L}}{\\partial{b_1}}$, $\\frac{\\partial{L}}{\\partial{W_2}}$, $\\frac{\\partial{L}}{\\partial{b_2}}$. To calculate these gradients we use the  *backpropagation algorithm*, which is a way to efficiently calculate the gradients starting from the output. \n",
        "Applying the backpropagation formula we find the following:"
      ]
    },
    {
      "cell_type": "markdown",
      "metadata": {
        "id": "E5WIvz6TpE_c",
        "colab_type": "text"
      },
      "source": [
        "$$\n",
        "\\begin{aligned}\n",
        "& \\delta_3 = \\hat{y} - y \\\\\n",
        "& \\delta_2 = (1 - \\tanh^2a_1) \\circ \\delta_3W_2^T \\\\\n",
        "& \\frac{\\partial{L}}{\\partial{W_2}} = h_1^T \\delta_3  \\\\\n",
        "& \\frac{\\partial{L}}{\\partial{b_2}} = \\delta_3\\\\\n",
        "& \\frac{\\partial{L}}{\\partial{W_1}} = x^T \\delta_2\\\\\n",
        "& \\frac{\\partial{L}}{\\partial{b_1}} = \\delta_2 \\\\\n",
        "\\end{aligned}\n",
        "$$"
      ]
    },
    {
      "cell_type": "markdown",
      "metadata": {
        "id": "uRfiHGarpE_d",
        "colab_type": "text"
      },
      "source": [
        "### Implementation\n",
        "\n",
        "Now we are ready for our implementation. We start by defining some useful variables and parameters for gradient descent:"
      ]
    },
    {
      "cell_type": "code",
      "metadata": {
        "id": "UZfERv2wpE_e",
        "colab_type": "code",
        "colab": {}
      },
      "source": [
        "num_examples = len(X) # training set size\n",
        "nn_input_dim = 2 # input layer dimensionality\n",
        "nn_output_dim = 2 # output layer dimensionality\n",
        "\n",
        "# Gradient descent parameters (I picked these by hand)\n",
        "epsilon = 0.01 # learning rate for gradient descent\n",
        "reg_lambda = 0.01 # regularization strength"
      ],
      "execution_count": 0,
      "outputs": []
    },
    {
      "cell_type": "markdown",
      "metadata": {
        "id": "XOaDoSoIpE_i",
        "colab_type": "text"
      },
      "source": [
        "First let's implement the loss function we defined above. We use this to evaluate how well our model is doing:"
      ]
    },
    {
      "cell_type": "code",
      "metadata": {
        "id": "0mWpePsCpE_j",
        "colab_type": "code",
        "colab": {}
      },
      "source": [
        "# Helper function to evaluate the total loss on the dataset\n",
        "def calculate_loss(model):\n",
        "    W1, b1, W2, b2 = model['W1'], model['b1'], model['W2'], model['b2']\n",
        "    # Forward propagation to calculate our predictions\n",
        "    a1 = X.dot(W1) + b1\n",
        "    h1 = np.tanh(a1)\n",
        "    a2 = h1.dot(W2) + b2\n",
        "    exp_scores = np.exp(a2)\n",
        "    probs = exp_scores / np.sum(exp_scores, axis=1, keepdims=True)\n",
        "    # Calculating the loss\n",
        "    corect_logprobs = -np.log(probs[range(num_examples), y])\n",
        "    data_loss = np.sum(corect_logprobs)\n",
        "    # Add regulatization term to loss (optional)\n",
        "    #data_loss += reg_lambda/2 * (np.sum(np.square(W1)) + np.sum(np.square(W2)))\n",
        "    return 1./num_examples * data_loss"
      ],
      "execution_count": 0,
      "outputs": []
    },
    {
      "cell_type": "markdown",
      "metadata": {
        "id": "lX4oqdvopE_m",
        "colab_type": "text"
      },
      "source": [
        "We also implement a helper function to calculate the output of the network. It does forward propagation as defined above and returns the class with the highest probability."
      ]
    },
    {
      "cell_type": "code",
      "metadata": {
        "id": "YQiGToaDpE_n",
        "colab_type": "code",
        "colab": {}
      },
      "source": [
        "# Helper function to predict an output (0 or 1)\n",
        "def predict(model, x):\n",
        "    W1, b1, W2, b2 = model['W1'], model['b1'], model['W2'], model['b2']\n",
        "    # Forward propagation\n",
        "    a1 = x.dot(W1) + b1\n",
        "    h1 = np.tanh(a1)\n",
        "    a2 = h1.dot(W2) + b2\n",
        "    exp_scores = np.exp(a2)\n",
        "    probs = exp_scores / np.sum(exp_scores, axis=1, keepdims=True)\n",
        "    return np.argmax(probs, axis=1)"
      ],
      "execution_count": 0,
      "outputs": []
    },
    {
      "cell_type": "markdown",
      "metadata": {
        "id": "G1wqyiAupE_r",
        "colab_type": "text"
      },
      "source": [
        "Finally, here comes the function to train our Neural Network. It implements batch gradient descent using the backpropagation derivates we found above."
      ]
    },
    {
      "cell_type": "code",
      "metadata": {
        "id": "HUDPSLIVpE_t",
        "colab_type": "code",
        "colab": {}
      },
      "source": [
        "# This function learns parameters for the neural network and returns the model.\n",
        "# - nn_hdim: Number of nodes in the hidden layer\n",
        "# - num_passes: Number of passes through the training data for gradient descent\n",
        "# - print_loss: If True, print the loss every 1000 iterations\n",
        "def build_model(nn_hdim, num_passes=20000, print_loss=False):\n",
        "    \n",
        "    # Initialize the parameters to random values. We need to learn these.\n",
        "    np.random.seed(0)\n",
        "    W1 = np.random.randn(nn_input_dim, nn_hdim) / np.sqrt(nn_input_dim)\n",
        "    b1 = np.zeros((1, nn_hdim))\n",
        "    W2 = np.random.randn(nn_hdim, nn_output_dim) / np.sqrt(nn_hdim)\n",
        "    b2 = np.zeros((1, nn_output_dim))\n",
        "\n",
        "    # This is what we return at the end\n",
        "    model = {}\n",
        "    \n",
        "    # Gradient descent. For each batch...\n",
        "    for i in range(0, num_passes):\n",
        "\n",
        "        # Forward propagation\n",
        "        a1 = X.dot(W1) + b1\n",
        "        h1 = np.tanh(a1)\n",
        "        a2 = h1.dot(W2) + b2\n",
        "        exp_scores = np.exp(a2)\n",
        "        probs = exp_scores / np.sum(exp_scores, axis=1, keepdims=True)\n",
        "\n",
        "        # Backpropagation\n",
        "        delta3 = probs\n",
        "        delta3[range(num_examples), y] -= 1\n",
        "        dW2 = (h1.T).dot(delta3)\n",
        "        db2 = np.sum(delta3, axis=0, keepdims=True)\n",
        "        delta2 = delta3.dot(W2.T) * (1 - np.power(h1, 2))\n",
        "        dW1 = np.dot(X.T, delta2)\n",
        "        db1 = np.sum(delta2, axis=0)\n",
        "\n",
        "        # Add regularization terms (b1 and b2 don't have regularization terms)\n",
        "        dW2 += reg_lambda * W2\n",
        "        dW1 += reg_lambda * W1\n",
        "\n",
        "        # Gradient descent parameter update\n",
        "        W1 += -epsilon * dW1\n",
        "        b1 += -epsilon * db1\n",
        "        W2 += -epsilon * dW2\n",
        "        b2 += -epsilon * db2\n",
        "        \n",
        "        # Assign new parameters to the model\n",
        "        model = { 'W1': W1, 'b1': b1, 'W2': W2, 'b2': b2}\n",
        "        \n",
        "        # Optionally print the loss.\n",
        "        # This is expensive because it uses the whole dataset, so we don't want to do it too often.\n",
        "        if print_loss and i % 1000 == 0:\n",
        "          print(\"Loss after iteration %i: %f\" %(i, calculate_loss(model)))\n",
        "    \n",
        "    return model"
      ],
      "execution_count": 0,
      "outputs": []
    },
    {
      "cell_type": "markdown",
      "metadata": {
        "id": "ybHMnZu-pE_x",
        "colab_type": "text"
      },
      "source": [
        "### A network with a hidden layer of size 3\n",
        "\n",
        "Let's see what happens if we train a network with a hidden layer size of 3.\n"
      ]
    },
    {
      "cell_type": "code",
      "metadata": {
        "id": "gpxVyG63pE_y",
        "colab_type": "code",
        "colab": {}
      },
      "source": [
        "# Build a model with a 3-dimensional hidden layer\n",
        "model = build_model(3, print_loss=True)\n",
        "\n",
        "# Plot the decision boundary\n",
        "plot_decision_boundary(lambda x: predict(model, x))\n",
        "plt.title(\"Decision Boundary for hidden layer size 3\")"
      ],
      "execution_count": 0,
      "outputs": []
    },
    {
      "cell_type": "markdown",
      "metadata": {
        "id": "HO6epOtipE_1",
        "colab_type": "text"
      },
      "source": [
        "Yay! This looks pretty good. Our neural networks was able to find a decision boundary that successfully separates the classes."
      ]
    },
    {
      "cell_type": "markdown",
      "metadata": {
        "id": "1Zx0Hit4pE_2",
        "colab_type": "text"
      },
      "source": [
        "# Varying the hidden layer size\n",
        "\n",
        "In the example above we picked a hidden layer size of 3. Let's now get a sense of how varying the hidden layer size affects the result.\n"
      ]
    },
    {
      "cell_type": "code",
      "metadata": {
        "id": "genWT0X2pE_4",
        "colab_type": "code",
        "colab": {}
      },
      "source": [
        "plt.figure(figsize=(16, 32))\n",
        "hidden_layer_dimensions = [1, 2, 3, 4, 5, 20, 50]\n",
        "for i, nn_hdim in enumerate(hidden_layer_dimensions):\n",
        "    plt.subplot(5, 2, i+1)\n",
        "    plt.title('Hidden Layer size %d' % nn_hdim)\n",
        "    model = build_model(nn_hdim)\n",
        "    plot_decision_boundary(lambda x: predict(model, x))\n",
        "plt.show()"
      ],
      "execution_count": 0,
      "outputs": []
    },
    {
      "cell_type": "markdown",
      "metadata": {
        "id": "WhNPTw-spE_8",
        "colab_type": "text"
      },
      "source": [
        "We can see that while a hidden layer of low dimensionality nicely capture the general trend of our data, but higher dimensionalities are prone to overfitting. They are \"memorizing\" the data as opposed to fitting the general shape. If we were to evaluate our model on a separate test set (and you should!) the model with a smaller hidden layer size would likely perform better because it generalizes better. We could counteract overfitting with stronger regularization, but picking the correct size for hidden layer is a much more \"economical\" solution."
      ]
    },
    {
      "cell_type": "markdown",
      "metadata": {
        "id": "J-iIonywpE_9",
        "colab_type": "text"
      },
      "source": [
        "# Exercises\n",
        "\n",
        "Here are some things you can try to become more familiar with the code:\n",
        "\n",
        "1. We used a $\\tanh$ activation function for our hidden layer. Experiment with other activation functions (some are mentioned above). Note that changing the activation function also means changing the backpropagation derivative.\n",
        "2. Extend the network from two to three classes. You will need to generate an appropriate dataset for this.\n",
        "3. Extend the network to four layers. Experiment with the layer size. Adding another hidden layer means you will need to adjust both the forward propagation as well as the backpropagation code.\n"
      ]
    },
    {
      "cell_type": "code",
      "metadata": {
        "id": "u28Fc1w4pE_-",
        "colab_type": "code",
        "colab": {}
      },
      "source": [
        ""
      ],
      "execution_count": 0,
      "outputs": []
    }
  ]
}